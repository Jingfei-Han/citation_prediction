{
 "cells": [
  {
   "cell_type": "markdown",
   "metadata": {},
   "source": [
    "# 1 Load the function which is used to create df_paper and df_relationship"
   ]
  },
  {
   "cell_type": "markdown",
   "metadata": {},
   "source": [
    "## 1.1 Import libraries"
   ]
  },
  {
   "cell_type": "code",
   "execution_count": 153,
   "metadata": {
    "collapsed": false
   },
   "outputs": [],
   "source": [
    "#encoding:utf-8\n",
    "import pandas as pd \n",
    "from pandas import Series, DataFrame\n",
    "import MySQLdb\n",
    "import numpy as np\n",
    "import matplotlib.pyplot as plt\n",
    "#import seaborn as sns\n",
    "#sns.set_style(\"whitegrid\")"
   ]
  },
  {
   "cell_type": "markdown",
   "metadata": {},
   "source": [
    "## 1.2 Define some functions used to get some dataframes from mysql "
   ]
  },
  {
   "cell_type": "code",
   "execution_count": 4,
   "metadata": {
    "collapsed": true
   },
   "outputs": [],
   "source": [
    "def get_paper(conn):\n",
    "\tsql_paper = \"SELECT paper_id, paper_title, paper_publicationYear, paper_nbCitation, paper_label, venue_venue_id FROM paper\"\n",
    "\tdf_paper = pd.read_sql(sql_paper, conn)\n",
    "\treturn df_paper\n",
    "\n",
    "def get_a2p(conn):\n",
    "\tsql_a2p = \"SELECT * FROM a2p\"\n",
    "\tdf_a2p = pd.read_sql(sql_a2p, conn)\n",
    "\treturn df_a2p\n",
    "\n",
    "def get_author(conn):\n",
    "\tsql_author = \"SELECT * FROM author\"\n",
    "\tdf_author = pd.read_sql(sql_author, conn)\n",
    "\treturn df_author\n",
    "\n",
    "def get_relationship(conn):\n",
    "\tsql_relationship = \"SELECT relationship_src, relationship_dst FROM relationship\"\n",
    "\tdf_relationship = pd.read_sql(sql_relationship, conn)\n",
    "\treturn df_relationship\n",
    "\n",
    "def get_venue(conn):\n",
    "\tsql_venue = \"SELECT * FROM venue\"\n",
    "\tdf_venue = pd.read_sql(sql_venue, conn)\n",
    "\treturn df_venue\n",
    "\n",
    "def get_dblp2ccf(conn):\n",
    "\tsql_dblp2ccf = \"SELECT * FROM dblp2ccf\"\n",
    "\tdf_dblp2ccf = pd.read_sql(sql_dblp2ccf, conn)\n",
    "\treturn df_dblp2ccf\n",
    "\n",
    "def get_ccf(conn):\n",
    "\tsql_ccf = \"SELECT * FROM ccf\"\n",
    "\tdf_ccf = pd.read_sql(sql_ccf, conn)\n",
    "\treturn df_ccf"
   ]
  },
  {
   "cell_type": "markdown",
   "metadata": {},
   "source": [
    "## 1.3 Define function to get df_paper and df_relationship"
   ]
  },
  {
   "cell_type": "code",
   "execution_count": 5,
   "metadata": {
    "collapsed": true
   },
   "outputs": [],
   "source": [
    "def generate_relationship(sql_ip, port, user, passwd, db):\n",
    "\t#根据数据库信息， 返回df_relationship，其中包含源和目的的发表年份、标签、最大H因子、第一作者所属国家\n",
    "\n",
    "\tconn = MySQLdb.connect(host=sql_ip, user=user, port=port, passwd=passwd, db=db, charset='utf8')\n",
    "\n",
    "\tdf_paper = get_paper(conn)\n",
    "\tdf_a2p = get_a2p(conn)\n",
    "\tdf_author = get_author(conn)\n",
    "\tdf_relationship = get_relationship(conn)\n",
    "\tdf_venue = get_venue(conn)\n",
    "\tdf_dblp2ccf = get_dblp2ccf(conn)\n",
    "\tdf_ccf = get_ccf(conn)\n",
    "\t\n",
    "\t\n",
    "\t#*********************************************此部分得到论文的最大H因子********************************************************\n",
    "\t#合并, 内连接为了得到每个论文作者的最大H因子\n",
    "\tdf = pd.merge(df_paper, pd.merge(df_author, df_a2p, left_on='author_id', right_on='author_author_id'), left_on='paper_id', right_on='paper_paper_id')\n",
    "\n",
    "\t#查看df的列名\n",
    "\t#df.columns\n",
    "\n",
    "\t#按paper_id分组\n",
    "\tgroup_paper = df.groupby(df['paper_id'])\n",
    "\t#得到paper的最大H因子\n",
    "\tres_Hindex = group_paper.author_H_Index.max()\n",
    "\t#计数，得到最大H因子的个数\n",
    "\t#res = res_Hindex.value_counts()\n",
    "\n",
    "\t#找到作者最大H因子，写到df_paper中\n",
    "\tdf_Hindex = DataFrame(res_Hindex)\n",
    "\tdf_Hindex['paper_id'] = df_Hindex.index\n",
    "\n",
    "\t#*************************************此部分得到论文的J/C、computercategory***************************************************\n",
    "\tdf2_part1 = pd.merge(df_paper, df_venue, left_on='venue_venue_id', right_on='venue_id')\n",
    "\tdf2_part2 = pd.merge(df_ccf, df_dblp2ccf, left_on='CCF_id', right_on='ccf_CCF_id')\n",
    "\tdf2_part2 = df2_part2[df2_part2['dblp_dblp_id']<999999999]\n",
    "\tdf2 = pd.merge(df2_part1, df2_part2, left_on='dblp_dblp_id', right_on='dblp_dblp_id')\n",
    "\tdf2 = df2[['paper_id', 'CCF_type', 'computercategory_computerCategory_id', 'CCF_id']] #加上论文的CCF_id\n",
    "\tdf2 = df2.drop_duplicates(['paper_id']) #去掉重复的paper_id数据\n",
    "\n",
    "\tdf_paper = pd.merge(df_paper, df_Hindex, left_on='paper_id', right_on='paper_id', how='outer') #在paper表上加上Max H因子\n",
    "\tdf_paper = pd.merge(df_paper, df2, left_on='paper_id', right_on='paper_id', how='outer') #在paper表上加上J/C, computer类别\n",
    "\n",
    "\t#找到每篇论文第一作者的国籍，写入df_paper中\n",
    "\tdf_sub = df[df['a2p_order']==1]\n",
    "\tdf_sub2 = df_sub[['paper_id', 'author_affiliation_name']]\n",
    "\tdf_sub_China = df_sub2[df_sub2['author_affiliation_name'].str.contains('China')].copy()\n",
    "\tdf_sub_Australia = df_sub2[df_sub2['author_affiliation_name'].str.contains('Australia')].copy()\n",
    "\n",
    "\tdf_sub_China['country'] = 'China'\n",
    "\tdf_sub_Australia['country'] = 'Australia'\n",
    "\tdf_country = pd.concat([df_sub_China, df_sub_Australia])\n",
    "\tdf_country = df_country.drop_duplicates(['paper_id']) #去除2446篇第一作者来自两个国家的情况，这里将澳大利亚的情况去掉\n",
    "\n",
    "\t#df_paper_inter = pd.merge(df_paper, df_country) #只包括中国和澳大利亚作者\n",
    "\tdf_paper_outer = pd.merge(df_paper, df_country, how = 'outer')#包括所有国家作者，但是大部分国籍为NAN(除中澳外的其他国家)\n",
    "\n",
    "\tdf_relationship = pd.merge(df_relationship, df_paper_outer[['paper_id','paper_publicationYear','paper_label','author_H_Index', 'CCF_type', 'computercategory_computerCategory_id', 'country', 'CCF_id']], left_on='relationship_src', right_on='paper_id')\n",
    "\tdel df_relationship['paper_id']\n",
    "\t#换列名\n",
    "\tdf_relationship.columns = ['relationship_src', 'relationship_dst', 'relationship_src_publicationYear', 'relationship_src_label', 'relationship_src_maxHindex', 'relationship_src_type', 'relationship_src_computerCategory', 'relationship_src_country', 'relationship_src_ccfid']\n",
    "\n",
    "\tdf_relationship = pd.merge(df_relationship, df_paper_outer[['paper_id','paper_publicationYear','paper_label','author_H_Index', 'CCF_type', 'computercategory_computerCategory_id', 'country', 'CCF_id']], left_on='relationship_dst', right_on='paper_id')\n",
    "\tdel df_relationship['paper_id']\n",
    "\tdf_relationship.columns = ['relationship_src', 'relationship_dst', 'relationship_src_publicationYear', 'relationship_src_label', 'relationship_src_maxHindex', 'relationship_src_type', 'relationship_src_computerCategory', 'relationship_src_country', 'relationship_src_ccfid', 'relationship_dst_publicationYear', 'relationship_dst_label', 'relationship_dst_maxHindex', 'relationship_dst_type', 'relationship_dst_computerCategory', 'relationship_dst_country', 'relationship_dst_ccfid']\n",
    "\t#此时的df_relationship包含源和目的的发表年份、标签、最大H因子、type、 CCF类别、第一作者所属国家\n",
    "\n",
    "\treturn df_paper_outer, df_relationship"
   ]
  },
  {
   "cell_type": "markdown",
   "metadata": {},
   "source": [
    "## 1.4 Load mysql parameters"
   ]
  },
  {
   "cell_type": "code",
   "execution_count": 6,
   "metadata": {
    "collapsed": true
   },
   "outputs": [],
   "source": [
    "#sql_ip = \"shhr.online\" #数据库地址\n",
    "#port = 33755 #数据库端口号\n",
    "#sql_ip = \"192.168.1.198\"\n",
    "sql_ip = \"127.0.0.1\"\n",
    "port = 3306\n",
    "#user = \"jingfei\" #用户名\n",
    "user = \"root\"\n",
    "passwd = \"hanjingfei007\"\n",
    "db = \"aminer_gai\""
   ]
  },
  {
   "cell_type": "markdown",
   "metadata": {},
   "source": [
    "## 1.5 Create DataFrames "
   ]
  },
  {
   "cell_type": "code",
   "execution_count": 7,
   "metadata": {
    "collapsed": false
   },
   "outputs": [],
   "source": [
    "df_paper, df_relationship = generate_relationship(sql_ip, port, user, passwd, db)"
   ]
  },
  {
   "cell_type": "markdown",
   "metadata": {},
   "source": [
    "df_paper's parameters include **paper_id, paper_title, paper_publicationYear, paper_nbCitation, paper_label, venue_venue_id, author_H_index, CCF_type, computercategory_computerCategory_id, CCF_id, author_affiliation_name, country**"
   ]
  },
  {
   "cell_type": "code",
   "execution_count": 8,
   "metadata": {
    "collapsed": false
   },
   "outputs": [
    {
     "data": {
      "text/html": [
       "<div>\n",
       "<table border=\"1\" class=\"dataframe\">\n",
       "  <thead>\n",
       "    <tr style=\"text-align: right;\">\n",
       "      <th></th>\n",
       "      <th>paper_id</th>\n",
       "      <th>paper_title</th>\n",
       "      <th>paper_publicationYear</th>\n",
       "      <th>paper_nbCitation</th>\n",
       "      <th>paper_label</th>\n",
       "      <th>venue_venue_id</th>\n",
       "      <th>author_H_Index</th>\n",
       "      <th>CCF_type</th>\n",
       "      <th>computercategory_computerCategory_id</th>\n",
       "      <th>CCF_id</th>\n",
       "      <th>author_affiliation_name</th>\n",
       "      <th>country</th>\n",
       "    </tr>\n",
       "  </thead>\n",
       "  <tbody>\n",
       "    <tr>\n",
       "      <th>0</th>\n",
       "      <td>1276</td>\n",
       "      <td>Computer algebra applications</td>\n",
       "      <td>2000</td>\n",
       "      <td>0</td>\n",
       "      <td>None</td>\n",
       "      <td>8292</td>\n",
       "      <td>6.0</td>\n",
       "      <td>NaN</td>\n",
       "      <td>NaN</td>\n",
       "      <td>NaN</td>\n",
       "      <td>NaN</td>\n",
       "      <td>NaN</td>\n",
       "    </tr>\n",
       "    <tr>\n",
       "      <th>1</th>\n",
       "      <td>2484</td>\n",
       "      <td>The development of computer science</td>\n",
       "      <td>2000</td>\n",
       "      <td>4</td>\n",
       "      <td>None</td>\n",
       "      <td>8293</td>\n",
       "      <td>3.0</td>\n",
       "      <td>NaN</td>\n",
       "      <td>NaN</td>\n",
       "      <td>NaN</td>\n",
       "      <td>NaN</td>\n",
       "      <td>NaN</td>\n",
       "    </tr>\n",
       "    <tr>\n",
       "      <th>2</th>\n",
       "      <td>3019</td>\n",
       "      <td>A query interface for IMAGE databases based on...</td>\n",
       "      <td>2000</td>\n",
       "      <td>0</td>\n",
       "      <td>None</td>\n",
       "      <td>8294</td>\n",
       "      <td>11.0</td>\n",
       "      <td>NaN</td>\n",
       "      <td>NaN</td>\n",
       "      <td>NaN</td>\n",
       "      <td>Royal Melbourne Institute of Technology, Melbo...</td>\n",
       "      <td>Australia</td>\n",
       "    </tr>\n",
       "    <tr>\n",
       "      <th>3</th>\n",
       "      <td>3020</td>\n",
       "      <td>Quokka: a translator generator using denotatio...</td>\n",
       "      <td>2000</td>\n",
       "      <td>0</td>\n",
       "      <td>None</td>\n",
       "      <td>8294</td>\n",
       "      <td>2.0</td>\n",
       "      <td>NaN</td>\n",
       "      <td>NaN</td>\n",
       "      <td>NaN</td>\n",
       "      <td>Univ. of New South Wales, Kensington, NSW, Aus...</td>\n",
       "      <td>Australia</td>\n",
       "    </tr>\n",
       "    <tr>\n",
       "      <th>4</th>\n",
       "      <td>3021</td>\n",
       "      <td>A clause indexing system for PROLOG based on s...</td>\n",
       "      <td>2000</td>\n",
       "      <td>0</td>\n",
       "      <td>None</td>\n",
       "      <td>8294</td>\n",
       "      <td>6.0</td>\n",
       "      <td>NaN</td>\n",
       "      <td>NaN</td>\n",
       "      <td>NaN</td>\n",
       "      <td>Univ. of New South Wales, Sydney, Australia;Un...</td>\n",
       "      <td>Australia</td>\n",
       "    </tr>\n",
       "  </tbody>\n",
       "</table>\n",
       "</div>"
      ],
      "text/plain": [
       "   paper_id                                        paper_title  \\\n",
       "0      1276                      Computer algebra applications   \n",
       "1      2484                The development of computer science   \n",
       "2      3019  A query interface for IMAGE databases based on...   \n",
       "3      3020  Quokka: a translator generator using denotatio...   \n",
       "4      3021  A clause indexing system for PROLOG based on s...   \n",
       "\n",
       "   paper_publicationYear  paper_nbCitation paper_label  venue_venue_id  \\\n",
       "0                   2000                 0        None            8292   \n",
       "1                   2000                 4        None            8293   \n",
       "2                   2000                 0        None            8294   \n",
       "3                   2000                 0        None            8294   \n",
       "4                   2000                 0        None            8294   \n",
       "\n",
       "   author_H_Index CCF_type  computercategory_computerCategory_id  CCF_id  \\\n",
       "0             6.0      NaN                                   NaN     NaN   \n",
       "1             3.0      NaN                                   NaN     NaN   \n",
       "2            11.0      NaN                                   NaN     NaN   \n",
       "3             2.0      NaN                                   NaN     NaN   \n",
       "4             6.0      NaN                                   NaN     NaN   \n",
       "\n",
       "                             author_affiliation_name    country  \n",
       "0                                                NaN        NaN  \n",
       "1                                                NaN        NaN  \n",
       "2  Royal Melbourne Institute of Technology, Melbo...  Australia  \n",
       "3  Univ. of New South Wales, Kensington, NSW, Aus...  Australia  \n",
       "4  Univ. of New South Wales, Sydney, Australia;Un...  Australia  "
      ]
     },
     "execution_count": 8,
     "metadata": {},
     "output_type": "execute_result"
    }
   ],
   "source": [
    "df_paper.head() #原始的paper信息加上最大作者H因子、J/C、计算机类别、CCF id、作者名、第一作者国家"
   ]
  },
  {
   "cell_type": "markdown",
   "metadata": {},
   "source": [
    "df_relationship is used to show citation relationship. Its parameters include \n",
    "\n",
    "**relationship_src, relationship_dst**\n",
    "\n",
    "**relationship_src_publicationYear, relationship_src_label, relationship_src_maxHindex, relationship_src_type, \n",
    "relationship_src_computerCategory, relationship_src_country, relationship_src_ccfid**\n",
    "\n",
    "**relationship_dst_publicationYear, relationship_dst_label, relationship_dst_maxHindex, relationship_dst_type, \n",
    "relationship_dst_computerCategory, relationship_dst_country, relationship_dst_ccfid**"
   ]
  },
  {
   "cell_type": "code",
   "execution_count": 9,
   "metadata": {
    "collapsed": false
   },
   "outputs": [
    {
     "data": {
      "text/html": [
       "<div>\n",
       "<table border=\"1\" class=\"dataframe\">\n",
       "  <thead>\n",
       "    <tr style=\"text-align: right;\">\n",
       "      <th></th>\n",
       "      <th>relationship_src</th>\n",
       "      <th>relationship_dst</th>\n",
       "      <th>relationship_src_publicationYear</th>\n",
       "      <th>relationship_src_label</th>\n",
       "      <th>relationship_src_maxHindex</th>\n",
       "      <th>relationship_src_type</th>\n",
       "      <th>relationship_src_computerCategory</th>\n",
       "      <th>relationship_src_country</th>\n",
       "      <th>relationship_src_ccfid</th>\n",
       "      <th>relationship_dst_publicationYear</th>\n",
       "      <th>relationship_dst_label</th>\n",
       "      <th>relationship_dst_maxHindex</th>\n",
       "      <th>relationship_dst_type</th>\n",
       "      <th>relationship_dst_computerCategory</th>\n",
       "      <th>relationship_dst_country</th>\n",
       "      <th>relationship_dst_ccfid</th>\n",
       "    </tr>\n",
       "  </thead>\n",
       "  <tbody>\n",
       "    <tr>\n",
       "      <th>0</th>\n",
       "      <td>54484</td>\n",
       "      <td>54476</td>\n",
       "      <td>2000</td>\n",
       "      <td>None</td>\n",
       "      <td>3.0</td>\n",
       "      <td>NaN</td>\n",
       "      <td>NaN</td>\n",
       "      <td>NaN</td>\n",
       "      <td>NaN</td>\n",
       "      <td>2000</td>\n",
       "      <td>None</td>\n",
       "      <td>1.0</td>\n",
       "      <td>NaN</td>\n",
       "      <td>NaN</td>\n",
       "      <td>NaN</td>\n",
       "      <td>NaN</td>\n",
       "    </tr>\n",
       "    <tr>\n",
       "      <th>1</th>\n",
       "      <td>54476</td>\n",
       "      <td>54484</td>\n",
       "      <td>2000</td>\n",
       "      <td>None</td>\n",
       "      <td>1.0</td>\n",
       "      <td>NaN</td>\n",
       "      <td>NaN</td>\n",
       "      <td>NaN</td>\n",
       "      <td>NaN</td>\n",
       "      <td>2000</td>\n",
       "      <td>None</td>\n",
       "      <td>3.0</td>\n",
       "      <td>NaN</td>\n",
       "      <td>NaN</td>\n",
       "      <td>NaN</td>\n",
       "      <td>NaN</td>\n",
       "    </tr>\n",
       "    <tr>\n",
       "      <th>2</th>\n",
       "      <td>54573</td>\n",
       "      <td>54572</td>\n",
       "      <td>2000</td>\n",
       "      <td>None</td>\n",
       "      <td>20.0</td>\n",
       "      <td>NaN</td>\n",
       "      <td>NaN</td>\n",
       "      <td>NaN</td>\n",
       "      <td>NaN</td>\n",
       "      <td>2000</td>\n",
       "      <td>None</td>\n",
       "      <td>9.0</td>\n",
       "      <td>NaN</td>\n",
       "      <td>NaN</td>\n",
       "      <td>NaN</td>\n",
       "      <td>NaN</td>\n",
       "    </tr>\n",
       "    <tr>\n",
       "      <th>3</th>\n",
       "      <td>333245</td>\n",
       "      <td>179374</td>\n",
       "      <td>2001</td>\n",
       "      <td>None</td>\n",
       "      <td>28.0</td>\n",
       "      <td>NaN</td>\n",
       "      <td>NaN</td>\n",
       "      <td>NaN</td>\n",
       "      <td>NaN</td>\n",
       "      <td>2011</td>\n",
       "      <td>None</td>\n",
       "      <td>2.0</td>\n",
       "      <td>NaN</td>\n",
       "      <td>NaN</td>\n",
       "      <td>NaN</td>\n",
       "      <td>NaN</td>\n",
       "    </tr>\n",
       "    <tr>\n",
       "      <th>4</th>\n",
       "      <td>333964</td>\n",
       "      <td>179374</td>\n",
       "      <td>2001</td>\n",
       "      <td>None</td>\n",
       "      <td>49.0</td>\n",
       "      <td>NaN</td>\n",
       "      <td>NaN</td>\n",
       "      <td>NaN</td>\n",
       "      <td>NaN</td>\n",
       "      <td>2011</td>\n",
       "      <td>None</td>\n",
       "      <td>2.0</td>\n",
       "      <td>NaN</td>\n",
       "      <td>NaN</td>\n",
       "      <td>NaN</td>\n",
       "      <td>NaN</td>\n",
       "    </tr>\n",
       "  </tbody>\n",
       "</table>\n",
       "</div>"
      ],
      "text/plain": [
       "   relationship_src  relationship_dst  relationship_src_publicationYear  \\\n",
       "0             54484             54476                              2000   \n",
       "1             54476             54484                              2000   \n",
       "2             54573             54572                              2000   \n",
       "3            333245            179374                              2001   \n",
       "4            333964            179374                              2001   \n",
       "\n",
       "  relationship_src_label  relationship_src_maxHindex relationship_src_type  \\\n",
       "0                   None                         3.0                   NaN   \n",
       "1                   None                         1.0                   NaN   \n",
       "2                   None                        20.0                   NaN   \n",
       "3                   None                        28.0                   NaN   \n",
       "4                   None                        49.0                   NaN   \n",
       "\n",
       "   relationship_src_computerCategory relationship_src_country  \\\n",
       "0                                NaN                      NaN   \n",
       "1                                NaN                      NaN   \n",
       "2                                NaN                      NaN   \n",
       "3                                NaN                      NaN   \n",
       "4                                NaN                      NaN   \n",
       "\n",
       "   relationship_src_ccfid  relationship_dst_publicationYear  \\\n",
       "0                     NaN                              2000   \n",
       "1                     NaN                              2000   \n",
       "2                     NaN                              2000   \n",
       "3                     NaN                              2011   \n",
       "4                     NaN                              2011   \n",
       "\n",
       "  relationship_dst_label  relationship_dst_maxHindex relationship_dst_type  \\\n",
       "0                   None                         1.0                   NaN   \n",
       "1                   None                         3.0                   NaN   \n",
       "2                   None                         9.0                   NaN   \n",
       "3                   None                         2.0                   NaN   \n",
       "4                   None                         2.0                   NaN   \n",
       "\n",
       "   relationship_dst_computerCategory relationship_dst_country  \\\n",
       "0                                NaN                      NaN   \n",
       "1                                NaN                      NaN   \n",
       "2                                NaN                      NaN   \n",
       "3                                NaN                      NaN   \n",
       "4                                NaN                      NaN   \n",
       "\n",
       "   relationship_dst_ccfid  \n",
       "0                     NaN  \n",
       "1                     NaN  \n",
       "2                     NaN  \n",
       "3                     NaN  \n",
       "4                     NaN  "
      ]
     },
     "execution_count": 9,
     "metadata": {},
     "output_type": "execute_result"
    }
   ],
   "source": [
    "df_relationship.head()"
   ]
  },
  {
   "cell_type": "markdown",
   "metadata": {},
   "source": [
    "## 1.6 Preprocess"
   ]
  },
  {
   "cell_type": "markdown",
   "metadata": {},
   "source": [
    "### 1.6.1 Drop the relationship bug"
   ]
  },
  {
   "cell_type": "markdown",
   "metadata": {},
   "source": [
    "There are some bugs in our dataset. In there, we try to delete 32,151 items in table relationship whose destination publication year is smaller than its source publication year."
   ]
  },
  {
   "cell_type": "code",
   "execution_count": 10,
   "metadata": {
    "collapsed": false
   },
   "outputs": [],
   "source": [
    "#df_relationship[df_relationship['relationship_src_publicationYear'] > df_relationship['relationship_dst_publicationYear']]\n",
    "df_relationship = df_relationship[df_relationship['relationship_src_publicationYear'] <= df_relationship['relationship_dst_publicationYear']]"
   ]
  },
  {
   "cell_type": "markdown",
   "metadata": {},
   "source": [
    "# 2 Data analysis for df_paper"
   ]
  },
  {
   "cell_type": "markdown",
   "metadata": {},
   "source": [
    "## 2.1  Show the yearly number of publicationsfrom 2000 to 2014."
   ]
  },
  {
   "cell_type": "code",
   "execution_count": 11,
   "metadata": {
    "collapsed": false
   },
   "outputs": [
    {
     "data": {
      "text/plain": [
       "<matplotlib.axes._subplots.AxesSubplot at 0x8b796fd0>"
      ]
     },
     "execution_count": 11,
     "metadata": {},
     "output_type": "execute_result"
    },
    {
     "data": {
      "image/png": "[encoded data removed]",
      "text/plain": [
       "<matplotlib.figure.Figure at 0xb6bb940>"
      ]
     },
     "metadata": {},
     "output_type": "display_data"
    }
   ],
   "source": [
    "%matplotlib inline\n",
    "df_paper.groupby(['paper_publicationYear'])['paper_id'].size().plot(kind='bar')"
   ]
  },
  {
   "cell_type": "markdown",
   "metadata": {},
   "source": [
    "We can find that the number of publications grew at an exponential rate from 2000 to 2009. But decreased since 2010. This is different from other papers and intuition.\n",
    "\n",
    "I think it's because our dataset is **incomplete**. So I think we can only use this dataset to reasearch the difference betweenCCF and CORE.\n",
    "\n",
    "If we want to predict citation, we need to use the complete [Academic Social Networks](https://aminer.org/aminernetwork).\n",
    "\n",
    "But I think we need to consider the latest citation data in AMiner -- [citation](https://aminer.org/citation). The data is only for citation research.\n",
    "\n",
    "In the citation dataset, no author informations are considered. So I think we can use the data from 2000 to 2010."
   ]
  },
  {
   "cell_type": "markdown",
   "metadata": {
    "collapsed": true
   },
   "source": [
    "## 2.2 Test if multiple authors receive more citations than solo-authored ones. [BY Wuchty](http://www.kellogg.northwestern.edu/faculty/uzzi/ftp/teams.printversion.pdf)"
   ]
  },
  {
   "cell_type": "code",
   "execution_count": 16,
   "metadata": {
    "collapsed": false
   },
   "outputs": [],
   "source": [
    "conn = MySQLdb.connect(host=sql_ip, user=user, port=port, passwd=passwd, db=db, charset='utf8')\n",
    "df_a2p = get_a2p(conn)"
   ]
  },
  {
   "cell_type": "code",
   "execution_count": 17,
   "metadata": {
    "collapsed": false
   },
   "outputs": [
    {
     "data": {
      "text/html": [
       "<div>\n",
       "<table border=\"1\" class=\"dataframe\">\n",
       "  <thead>\n",
       "    <tr style=\"text-align: right;\">\n",
       "      <th></th>\n",
       "      <th>a2p_id</th>\n",
       "      <th>a2p_order</th>\n",
       "      <th>author_author_id</th>\n",
       "      <th>paper_paper_id</th>\n",
       "    </tr>\n",
       "  </thead>\n",
       "  <tbody>\n",
       "    <tr>\n",
       "      <th>0</th>\n",
       "      <td>2141</td>\n",
       "      <td>1</td>\n",
       "      <td>565329</td>\n",
       "      <td>1276</td>\n",
       "    </tr>\n",
       "    <tr>\n",
       "      <th>1</th>\n",
       "      <td>2142</td>\n",
       "      <td>2</td>\n",
       "      <td>518281</td>\n",
       "      <td>1276</td>\n",
       "    </tr>\n",
       "    <tr>\n",
       "      <th>2</th>\n",
       "      <td>4172</td>\n",
       "      <td>1</td>\n",
       "      <td>1708068</td>\n",
       "      <td>2484</td>\n",
       "    </tr>\n",
       "    <tr>\n",
       "      <th>3</th>\n",
       "      <td>5035</td>\n",
       "      <td>1</td>\n",
       "      <td>232108</td>\n",
       "      <td>3019</td>\n",
       "    </tr>\n",
       "    <tr>\n",
       "      <th>4</th>\n",
       "      <td>5036</td>\n",
       "      <td>2</td>\n",
       "      <td>39675</td>\n",
       "      <td>3019</td>\n",
       "    </tr>\n",
       "  </tbody>\n",
       "</table>\n",
       "</div>"
      ],
      "text/plain": [
       "   a2p_id  a2p_order  author_author_id  paper_paper_id\n",
       "0    2141          1            565329            1276\n",
       "1    2142          2            518281            1276\n",
       "2    4172          1           1708068            2484\n",
       "3    5035          1            232108            3019\n",
       "4    5036          2             39675            3019"
      ]
     },
     "execution_count": 17,
     "metadata": {},
     "output_type": "execute_result"
    }
   ],
   "source": [
    "df_a2p.head()"
   ]
  },
  {
   "cell_type": "code",
   "execution_count": 20,
   "metadata": {
    "collapsed": false
   },
   "outputs": [],
   "source": [
    "grouped_paper = df_a2p.groupby('paper_paper_id')['author_author_id'].size()"
   ]
  },
  {
   "cell_type": "code",
   "execution_count": 22,
   "metadata": {
    "collapsed": false
   },
   "outputs": [
    {
     "data": {
      "text/plain": [
       "Int64Index([   1276,    2484,    3019,    3020,    3021,    3022,    3053,\n",
       "               3054,    3055,    3056,\n",
       "            ...\n",
       "            2091249, 2091250, 2091251, 2092350, 2092351, 2092352, 2092353,\n",
       "            2092354, 2092355, 2092356],\n",
       "           dtype='int64', name=u'paper_paper_id', length=1305906)"
      ]
     },
     "execution_count": 22,
     "metadata": {},
     "output_type": "execute_result"
    }
   ],
   "source": [
    "grouped_paper.index"
   ]
  },
  {
   "cell_type": "code",
   "execution_count": 36,
   "metadata": {
    "collapsed": false
   },
   "outputs": [],
   "source": [
    "df_cntAuthor = DataFrame(grouped_paper, columns=['cntAuthor'])"
   ]
  },
  {
   "cell_type": "code",
   "execution_count": 38,
   "metadata": {
    "collapsed": false
   },
   "outputs": [],
   "source": [
    "df_tmp = pd.merge(df_paper, df_cntAuthor, left_on='paper_id', right_index=True, how='left')"
   ]
  },
  {
   "cell_type": "code",
   "execution_count": 39,
   "metadata": {
    "collapsed": false
   },
   "outputs": [
    {
     "data": {
      "text/html": [
       "<div>\n",
       "<table border=\"1\" class=\"dataframe\">\n",
       "  <thead>\n",
       "    <tr style=\"text-align: right;\">\n",
       "      <th></th>\n",
       "      <th>paper_id</th>\n",
       "      <th>paper_title</th>\n",
       "      <th>paper_publicationYear</th>\n",
       "      <th>paper_nbCitation</th>\n",
       "      <th>paper_label</th>\n",
       "      <th>venue_venue_id</th>\n",
       "      <th>author_H_Index</th>\n",
       "      <th>CCF_type</th>\n",
       "      <th>computercategory_computerCategory_id</th>\n",
       "      <th>CCF_id</th>\n",
       "      <th>author_affiliation_name</th>\n",
       "      <th>country</th>\n",
       "      <th>cntAuthor</th>\n",
       "    </tr>\n",
       "  </thead>\n",
       "  <tbody>\n",
       "    <tr>\n",
       "      <th>0</th>\n",
       "      <td>1276</td>\n",
       "      <td>Computer algebra applications</td>\n",
       "      <td>2000</td>\n",
       "      <td>0</td>\n",
       "      <td>None</td>\n",
       "      <td>8292</td>\n",
       "      <td>6.0</td>\n",
       "      <td>NaN</td>\n",
       "      <td>NaN</td>\n",
       "      <td>NaN</td>\n",
       "      <td>NaN</td>\n",
       "      <td>NaN</td>\n",
       "      <td>2.0</td>\n",
       "    </tr>\n",
       "    <tr>\n",
       "      <th>1</th>\n",
       "      <td>2484</td>\n",
       "      <td>The development of computer science</td>\n",
       "      <td>2000</td>\n",
       "      <td>4</td>\n",
       "      <td>None</td>\n",
       "      <td>8293</td>\n",
       "      <td>3.0</td>\n",
       "      <td>NaN</td>\n",
       "      <td>NaN</td>\n",
       "      <td>NaN</td>\n",
       "      <td>NaN</td>\n",
       "      <td>NaN</td>\n",
       "      <td>1.0</td>\n",
       "    </tr>\n",
       "    <tr>\n",
       "      <th>2</th>\n",
       "      <td>3019</td>\n",
       "      <td>A query interface for IMAGE databases based on...</td>\n",
       "      <td>2000</td>\n",
       "      <td>0</td>\n",
       "      <td>None</td>\n",
       "      <td>8294</td>\n",
       "      <td>11.0</td>\n",
       "      <td>NaN</td>\n",
       "      <td>NaN</td>\n",
       "      <td>NaN</td>\n",
       "      <td>Royal Melbourne Institute of Technology, Melbo...</td>\n",
       "      <td>Australia</td>\n",
       "      <td>2.0</td>\n",
       "    </tr>\n",
       "    <tr>\n",
       "      <th>3</th>\n",
       "      <td>3020</td>\n",
       "      <td>Quokka: a translator generator using denotatio...</td>\n",
       "      <td>2000</td>\n",
       "      <td>0</td>\n",
       "      <td>None</td>\n",
       "      <td>8294</td>\n",
       "      <td>2.0</td>\n",
       "      <td>NaN</td>\n",
       "      <td>NaN</td>\n",
       "      <td>NaN</td>\n",
       "      <td>Univ. of New South Wales, Kensington, NSW, Aus...</td>\n",
       "      <td>Australia</td>\n",
       "      <td>1.0</td>\n",
       "    </tr>\n",
       "    <tr>\n",
       "      <th>4</th>\n",
       "      <td>3021</td>\n",
       "      <td>A clause indexing system for PROLOG based on s...</td>\n",
       "      <td>2000</td>\n",
       "      <td>0</td>\n",
       "      <td>None</td>\n",
       "      <td>8294</td>\n",
       "      <td>6.0</td>\n",
       "      <td>NaN</td>\n",
       "      <td>NaN</td>\n",
       "      <td>NaN</td>\n",
       "      <td>Univ. of New South Wales, Sydney, Australia;Un...</td>\n",
       "      <td>Australia</td>\n",
       "      <td>2.0</td>\n",
       "    </tr>\n",
       "  </tbody>\n",
       "</table>\n",
       "</div>"
      ],
      "text/plain": [
       "   paper_id                                        paper_title  \\\n",
       "0      1276                      Computer algebra applications   \n",
       "1      2484                The development of computer science   \n",
       "2      3019  A query interface for IMAGE databases based on...   \n",
       "3      3020  Quokka: a translator generator using denotatio...   \n",
       "4      3021  A clause indexing system for PROLOG based on s...   \n",
       "\n",
       "   paper_publicationYear  paper_nbCitation paper_label  venue_venue_id  \\\n",
       "0                   2000                 0        None            8292   \n",
       "1                   2000                 4        None            8293   \n",
       "2                   2000                 0        None            8294   \n",
       "3                   2000                 0        None            8294   \n",
       "4                   2000                 0        None            8294   \n",
       "\n",
       "   author_H_Index CCF_type  computercategory_computerCategory_id  CCF_id  \\\n",
       "0             6.0      NaN                                   NaN     NaN   \n",
       "1             3.0      NaN                                   NaN     NaN   \n",
       "2            11.0      NaN                                   NaN     NaN   \n",
       "3             2.0      NaN                                   NaN     NaN   \n",
       "4             6.0      NaN                                   NaN     NaN   \n",
       "\n",
       "                             author_affiliation_name    country  cntAuthor  \n",
       "0                                                NaN        NaN        2.0  \n",
       "1                                                NaN        NaN        1.0  \n",
       "2  Royal Melbourne Institute of Technology, Melbo...  Australia        2.0  \n",
       "3  Univ. of New South Wales, Kensington, NSW, Aus...  Australia        1.0  \n",
       "4  Univ. of New South Wales, Sydney, Australia;Un...  Australia        2.0  "
      ]
     },
     "execution_count": 39,
     "metadata": {},
     "output_type": "execute_result"
    }
   ],
   "source": [
    "df_tmp.head()"
   ]
  },
  {
   "cell_type": "code",
   "execution_count": 90,
   "metadata": {
    "collapsed": false
   },
   "outputs": [],
   "source": [
    "li = range(10)\n",
    "li.extend([200])\n",
    "cut = pd.cut(df_tmp.cntAuthor, li)"
   ]
  },
  {
   "cell_type": "code",
   "execution_count": 91,
   "metadata": {
    "collapsed": false
   },
   "outputs": [
    {
     "data": {
      "text/plain": [
       "(1, 2]      387928\n",
       "(2, 3]      347888\n",
       "(0, 1]      207720\n",
       "(3, 4]      203225\n",
       "(4, 5]       88794\n",
       "(5, 6]       37380\n",
       "(6, 7]       15405\n",
       "(7, 8]        7544\n",
       "(9, 200]      6181\n",
       "(8, 9]        3841\n",
       "dtype: int64"
      ]
     },
     "execution_count": 91,
     "metadata": {},
     "output_type": "execute_result"
    }
   ],
   "source": [
    "cut.value_counts()"
   ]
  },
  {
   "cell_type": "code",
   "execution_count": 92,
   "metadata": {
    "collapsed": false
   },
   "outputs": [
    {
     "data": {
      "text/plain": [
       "<matplotlib.axes._subplots.AxesSubplot at 0x48c63780>"
      ]
     },
     "execution_count": 92,
     "metadata": {},
     "output_type": "execute_result"
    },
    {
     "data": {
      "image/png": "[encoded data removed]",
      "text/plain": [
       "<matplotlib.figure.Figure at 0x8d287278>"
      ]
     },
     "metadata": {},
     "output_type": "display_data"
    }
   ],
   "source": [
    "df_tmp.groupby(cut)['paper_nbCitation'].mean().plot(kind='bar')"
   ]
  },
  {
   "cell_type": "markdown",
   "metadata": {},
   "source": [
    "## 2.3 Power-law distribution"
   ]
  },
  {
   "cell_type": "markdown",
   "metadata": {},
   "source": [
    "### 2.3.1 Distribution of the number of all citations of papers."
   ]
  },
  {
   "cell_type": "code",
   "execution_count": 124,
   "metadata": {
    "collapsed": false
   },
   "outputs": [
    {
     "data": {
      "text/plain": [
       "[<matplotlib.lines.Line2D at 0x9ee2b630>]"
      ]
     },
     "execution_count": 124,
     "metadata": {},
     "output_type": "execute_result"
    },
    {
     "data": {
      "image/png": "[encoded data removed]",
      "text/plain": [
       "<matplotlib.figure.Figure at 0xdc76358>"
      ]
     },
     "metadata": {},
     "output_type": "display_data"
    }
   ],
   "source": [
    "grouped = df_paper.groupby('paper_nbCitation')['paper_id'].size()\n",
    "fre = grouped * 1.0/ grouped.sum()\n",
    "plt.loglog(fre.index, fre.values, '.')"
   ]
  },
  {
   "cell_type": "markdown",
   "metadata": {},
   "source": [
    "### 2.3.2 Distribution of the number of citations of papers received within 5 years after publication."
   ]
  },
  {
   "cell_type": "code",
   "execution_count": 154,
   "metadata": {
    "collapsed": false
   },
   "outputs": [
    {
     "data": {
      "text/plain": [
       "[<matplotlib.lines.Line2D at 0x11faf080>]"
      ]
     },
     "execution_count": 154,
     "metadata": {},
     "output_type": "execute_result"
    },
    {
     "data": {
      "image/png": "[encoded data removed]",
      "text/plain": [
       "<matplotlib.figure.Figure at 0x164ade48>"
      ]
     },
     "metadata": {},
     "output_type": "display_data"
    }
   ],
   "source": [
    "df_tmp = df_relationship[df_relationship['relationship_dst_publicationYear'] - df_relationship['relationship_src_publicationYear'] <= 5]\n",
    "\n",
    "df_tmp = df_tmp[df_tmp['relationship_src_publicationYear'] <= 2005]\n",
    "\n",
    "grouped = df_tmp.groupby('relationship_src')['relationship_dst'].size()\n",
    "\n",
    "grouped = DataFrame(grouped, columns=['cnt_5years'])\n",
    "\n",
    "df_paper_tmp = df_paper[df_paper['paper_publicationYear'] <= 2005]\n",
    "df_merge = pd.merge(df_paper_tmp, grouped, left_on='paper_id', right_index=True, how='left')\n",
    "df_merge['cnt_5years'] = df_merge['cnt_5years'].fillna(0)\n",
    "grouped2 = df_merge.groupby('cnt_5years')['paper_id'].size()\n",
    "fre = grouped2 * 1.0/ grouped2.sum()\n",
    "plt.loglog(fre.index, fre.values, '.')"
   ]
  },
  {
   "cell_type": "code",
   "execution_count": null,
   "metadata": {
    "collapsed": true
   },
   "outputs": [],
   "source": []
  }
 ],
 "metadata": {
  "kernelspec": {
   "display_name": "Python 2",
   "language": "python",
   "name": "python2"
  },
  "language_info": {
   "codemirror_mode": {
    "name": "ipython",
    "version": 2
   },
   "file_extension": ".py",
   "mimetype": "text/x-python",
   "name": "python",
   "nbconvert_exporter": "python",
   "pygments_lexer": "ipython2",
   "version": "2.7.12"
  }
 },
 "nbformat": 4,
 "nbformat_minor": 0
}
